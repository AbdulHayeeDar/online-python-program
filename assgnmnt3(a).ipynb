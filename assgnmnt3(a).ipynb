{
 "cells": [
  {
   "cell_type": "code",
   "execution_count": 12,
   "id": "c9a3f620",
   "metadata": {},
   "outputs": [
    {
     "name": "stdout",
     "output_type": "stream",
     "text": [
      "Twinkle,twinkle,little star,\n",
      "\tHow I wonder what you are!\n",
      "\t\tUp above the world so high,\n",
      "\t\tLike a diamond in the sky,\n",
      "Twinkle,twinkle,little star,\n",
      "\tHow I wonder what you are,\n",
      "\n"
     ]
    }
   ],
   "source": [
    "#Write a Python program to get the Python version you are using\n",
    "print(\"Twinkle,twinkle,little star,\\n\\tHow I wonder what you are!\\n\\t\\tUp above the world so high,\\n\\t\\tLike a diamond in the sky,\\nTwinkle,twinkle,little star,\\n\\tHow I wonder what you are,\\n\") "
   ]
  },
  {
   "cell_type": "code",
   "execution_count": 23,
   "id": "c7d52ac6",
   "metadata": {},
   "outputs": [
    {
     "name": "stdout",
     "output_type": "stream",
     "text": [
      "3.8.8 (default, Apr 13 2021, 15:08:03) [MSC v.1916 64 bit (AMD64)]\n"
     ]
    }
   ],
   "source": [
    "#Write a Python program to get the Python version you are using\n",
    "import sys\n",
    "print(sys.version)"
   ]
  },
  {
   "cell_type": "code",
   "execution_count": 18,
   "id": "a7840da6",
   "metadata": {},
   "outputs": [
    {
     "name": "stdout",
     "output_type": "stream",
     "text": [
      "2021-10-23 11:11:54.418233\n"
     ]
    }
   ],
   "source": [
    "#Write a Python program to display the current date and time.\n",
    "from datetime import datetime\n",
    "print(datetime.now())\n"
   ]
  },
  {
   "cell_type": "raw",
   "id": "87081baa",
   "metadata": {},
   "source": []
  },
  {
   "cell_type": "code",
   "execution_count": 25,
   "id": "4ba9a811",
   "metadata": {},
   "outputs": [
    {
     "name": "stdout",
     "output_type": "stream",
     "text": [
      "enter radius5\n",
      "area of a given circle 78.5\n"
     ]
    }
   ],
   "source": [
    "#Write a Python program which accepts the radius of a circle from the user and compute the area.\n",
    "r=int(input(\"enter radius\"))\n",
    "pi=3.14\n",
    "a=pi*r**2\n",
    "print(\"area of a given circle\",a)\n"
   ]
  },
  {
   "cell_type": "code",
   "execution_count": 32,
   "id": "7bfcee57",
   "metadata": {},
   "outputs": [
    {
     "name": "stdout",
     "output_type": "stream",
     "text": [
      "dar abdul hayee\n"
     ]
    }
   ],
   "source": [
    "#Write a Python program which accepts the user's first and last name and print them in reverse order with a space between them.\n",
    "\n",
    "a=\"abdul hayee\"\n",
    "b= \"dar\"\n",
    "print(b +\" \"+ a)\n"
   ]
  },
  {
   "cell_type": "code",
   "execution_count": 44,
   "id": "690036bd",
   "metadata": {},
   "outputs": [
    {
     "name": "stdout",
     "output_type": "stream",
     "text": [
      "enter no#4\n",
      "enter num5\n",
      "9\n"
     ]
    }
   ],
   "source": [
    "#Write a python program which takes two inputs from user and print them addition\n",
    "\n",
    "a=int(input(\"enter no#\"))\n",
    "b=int(input(\"enter num\"))\n",
    "c=a+b\n",
    "print(c)"
   ]
  },
  {
   "cell_type": "code",
   "execution_count": 69,
   "id": "767bb1ad",
   "metadata": {},
   "outputs": [
    {
     "name": "stdout",
     "output_type": "stream",
     "text": [
      "math94\n",
      "urdu90\n",
      "eng89\n",
      "pst96\n",
      "phy87\n",
      "91.2\n",
      "Grade A+\n"
     ]
    }
   ],
   "source": [
    "#Write a program which takes 5 inputs from user for different subject’s marks, total it and generate mark sheet using grades?\n",
    "\n",
    "a=int (input(\"math\"))\n",
    "b=int(input(\"urdu\"))\n",
    "c=int(input(\"eng\"))\n",
    "e=int(input(\"pst\"))\n",
    "g=int(input(\"phy\"))\n",
    "total=a+b+c+e+g\n",
    "percent=total/500*100\n",
    "print(percent)\n",
    "if percent < 100 and percent >80:\n",
    "    print (\"Grade A+\");\n",
    "elif percent < 80 and percent >70:\n",
    "    print(\"Grade A\");\n",
    "elif percent < 70 and percent >60:\n",
    "    print(\"Grade B\");  \n",
    "elif percent < 60 and percent >50:     \n",
    "     print(\"Grade C\");  \n",
    "elif percent < 50 and percent >40:         \n",
    "      print(\"Grade D\");\n",
    "elif percent < 40 and percent >33:    \n",
    "      print(\"Grade E\");     \n",
    "else:\n",
    "     (\"Fail\");"
   ]
  },
  {
   "cell_type": "code",
   "execution_count": 81,
   "id": "e3bb7410",
   "metadata": {},
   "outputs": [
    {
     "name": "stdout",
     "output_type": "stream",
     "text": [
      "enter num6\n",
      "even\n"
     ]
    }
   ],
   "source": [
    "#Write a program which take input from user and identify that the given number is even or odd?\n",
    "a=int(input(\"enter num\"))\n",
    "if a%2==0:\n",
    "    print(\"even\")\n",
    "else:\n",
    "     print(\"odd\")"
   ]
  },
  {
   "cell_type": "code",
   "execution_count": 85,
   "id": "f3619e7d",
   "metadata": {},
   "outputs": [
    {
     "name": "stdout",
     "output_type": "stream",
     "text": [
      "5\n"
     ]
    }
   ],
   "source": [
    "9.# Write a program which print the length of the list?\n",
    "l=[\"ali\",\"adam\",\"azam\",\"taha\",\"ahmed\"]\n",
    "print(len(l))"
   ]
  },
  {
   "cell_type": "code",
   "execution_count": 87,
   "id": "49f98dfc",
   "metadata": {},
   "outputs": [
    {
     "name": "stdout",
     "output_type": "stream",
     "text": [
      "38\n"
     ]
    }
   ],
   "source": [
    "# Write a Python program to sum all the numeric items in a list?\n",
    "\n",
    "l=[1,4,6,7,9,3,8]\n",
    "print(sum(l))"
   ]
  },
  {
   "cell_type": "code",
   "execution_count": 88,
   "id": "2e02ee6e",
   "metadata": {},
   "outputs": [
    {
     "name": "stdout",
     "output_type": "stream",
     "text": [
      "9\n"
     ]
    }
   ],
   "source": [
    "# Write a Python program to get the largest number from a numeric list.\n",
    "\n",
    "list=[8,5,9,3,2,6,4,0]\n",
    "print(max(l))"
   ]
  },
  {
   "cell_type": "code",
   "execution_count": 96,
   "id": "230191bc",
   "metadata": {},
   "outputs": [
    {
     "name": "stdout",
     "output_type": "stream",
     "text": [
      "1\n",
      "1\n",
      "2\n",
      "3\n"
     ]
    }
   ],
   "source": [
    "\"\"\" Take a list, say for example this one:\n",
    "a = [1, 1, 2, 3, 5, 8, 13, 21, 34, 55, 89]\n",
    "Write a program that prints out all the elements of the list that are less than 5.\"\"\"\n",
    "\n",
    "a = [1, 1, 2, 3, 5, 8, 13, 21, 34, 55, 89]\n",
    "for i in a:\n",
    "    if i<5:\n",
    "        print(i)"
   ]
  },
  {
   "cell_type": "code",
   "execution_count": null,
   "id": "d73df737",
   "metadata": {},
   "outputs": [],
   "source": []
  }
 ],
 "metadata": {
  "kernelspec": {
   "display_name": "Python 3",
   "language": "python",
   "name": "python3"
  },
  "language_info": {
   "codemirror_mode": {
    "name": "ipython",
    "version": 3
   },
   "file_extension": ".py",
   "mimetype": "text/x-python",
   "name": "python",
   "nbconvert_exporter": "python",
   "pygments_lexer": "ipython3",
   "version": "3.8.8"
  }
 },
 "nbformat": 4,
 "nbformat_minor": 5
}
